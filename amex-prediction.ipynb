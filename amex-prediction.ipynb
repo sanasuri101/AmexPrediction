{
 "cells": [
  {
   "cell_type": "code",
   "execution_count": 1,
   "id": "4087e203",
   "metadata": {
    "_cell_guid": "b1076dfc-b9ad-4769-8c92-a6c4dae69d19",
    "_uuid": "8f2839f25d086af736a60e9eeb907d3b93b6e0e5",
    "execution": {
     "iopub.execute_input": "2022-08-24T23:17:56.754386Z",
     "iopub.status.busy": "2022-08-24T23:17:56.753899Z",
     "iopub.status.idle": "2022-08-24T23:17:57.982930Z",
     "shell.execute_reply": "2022-08-24T23:17:57.981797Z"
    },
    "papermill": {
     "duration": 1.239078,
     "end_time": "2022-08-24T23:17:57.985920",
     "exception": false,
     "start_time": "2022-08-24T23:17:56.746842",
     "status": "completed"
    },
    "tags": []
   },
   "outputs": [
    {
     "data": {
      "text/html": [
       "<style type='text/css'>\n",
       ".datatable table.frame { margin-bottom: 0; }\n",
       ".datatable table.frame thead { border-bottom: none; }\n",
       ".datatable table.frame tr.coltypes td {  color: #FFFFFF;  line-height: 6px;  padding: 0 0.5em;}\n",
       ".datatable .bool    { background: #DDDD99; }\n",
       ".datatable .object  { background: #565656; }\n",
       ".datatable .int     { background: #5D9E5D; }\n",
       ".datatable .float   { background: #4040CC; }\n",
       ".datatable .str     { background: #CC4040; }\n",
       ".datatable .time    { background: #40CC40; }\n",
       ".datatable .row_index {  background: var(--jp-border-color3);  border-right: 1px solid var(--jp-border-color0);  color: var(--jp-ui-font-color3);  font-size: 9px;}\n",
       ".datatable .frame tbody td { text-align: left; }\n",
       ".datatable .frame tr.coltypes .row_index {  background: var(--jp-border-color0);}\n",
       ".datatable th:nth-child(2) { padding-left: 12px; }\n",
       ".datatable .hellipsis {  color: var(--jp-cell-editor-border-color);}\n",
       ".datatable .vellipsis {  background: var(--jp-layout-color0);  color: var(--jp-cell-editor-border-color);}\n",
       ".datatable .na {  color: var(--jp-cell-editor-border-color);  font-size: 80%;}\n",
       ".datatable .sp {  opacity: 0.25;}\n",
       ".datatable .footer { font-size: 9px; }\n",
       ".datatable .frame_dimensions {  background: var(--jp-border-color3);  border-top: 1px solid var(--jp-border-color0);  color: var(--jp-ui-font-color3);  display: inline-block;  opacity: 0.6;  padding: 1px 10px 1px 5px;}\n",
       "</style>\n"
      ],
      "text/plain": [
       "<IPython.core.display.HTML object>"
      ]
     },
     "metadata": {},
     "output_type": "display_data"
    },
    {
     "name": "stdout",
     "output_type": "stream",
     "text": [
      "/kaggle/input/amex-default-prediction/sample_submission.csv\n",
      "/kaggle/input/amex-default-prediction/train_data.csv\n",
      "/kaggle/input/amex-default-prediction/test_data.csv\n",
      "/kaggle/input/amex-default-prediction/train_labels.csv\n",
      "/kaggle/input/amex-data-integer-dtypes-parquet-format/train.parquet\n",
      "/kaggle/input/amex-data-integer-dtypes-parquet-format/test.parquet\n"
     ]
    }
   ],
   "source": [
    "# This Python 3 environment comes with many helpful analytics libraries installed\n",
    "# It is defined by the kaggle/python Docker image: https://github.com/kaggle/docker-python\n",
    "# For example, here's several helpful packages to load\n",
    "\n",
    "import numpy as np # linear algebra\n",
    "import pandas as pd # data processing, CSV file I/O (e.g. pd.read_csv)\n",
    "import regex as re\n",
    "import gc\n",
    "import matplotlib.pyplot as plt\n",
    "import pyarrow.feather as feather\n",
    "import seaborn as sns\n",
    "import datatable as dt\n",
    "from sklearn.model_selection import train_test_split\n",
    "from sklearn.metrics import confusion_matrix\n",
    "# Input data files are available in the read-only \"../input/\" directory\n",
    "# For example, running this (by clicking run or pressing Shift+Enter) will list all files under the input directory\n",
    "\n",
    "import os\n",
    "for dirname, _, filenames in os.walk('/kaggle/input'):\n",
    "    for filename in filenames:\n",
    "        print(os.path.join(dirname, filename))\n",
    "\n",
    "# You can write up to 20GB to the current directory (/kaggle/working/) that gets preserved as output when you create a version using \"Save & Run All\" \n",
    "# You can also write temporary files to /kaggle/temp/, but they won't be saved outside of the current session"
   ]
  },
  {
   "cell_type": "code",
   "execution_count": 2,
   "id": "7a0757d2",
   "metadata": {
    "execution": {
     "iopub.execute_input": "2022-08-24T23:17:57.998708Z",
     "iopub.status.busy": "2022-08-24T23:17:57.997156Z",
     "iopub.status.idle": "2022-08-24T23:18:00.345733Z",
     "shell.execute_reply": "2022-08-24T23:18:00.344787Z"
    },
    "papermill": {
     "duration": 2.356881,
     "end_time": "2022-08-24T23:18:00.348053",
     "exception": false,
     "start_time": "2022-08-24T23:17:57.991172",
     "status": "completed"
    },
    "tags": []
   },
   "outputs": [],
   "source": [
    "import numpy as np\n",
    "import pandas as pd\n",
    "import matplotlib.pyplot as plt\n",
    "import seaborn as sns\n",
    "from imblearn.over_sampling import SMOTE\n",
    "from sklearn.preprocessing import LabelEncoder,MinMaxScaler,OrdinalEncoder\n",
    "from sklearn.model_selection import train_test_split\n",
    "from sklearn.metrics import classification_report,confusion_matrix\n",
    "\n",
    "\n",
    "from lightgbm import LGBMClassifier, early_stopping, log_evaluation\n",
    "from sklearn.model_selection import StratifiedKFold\n",
    "from sklearn.metrics import roc_auc_score, roc_curve, auc\n",
    "\n",
    "import xgboost as xgb\n",
    "from  xgboost import XGBRFClassifier"
   ]
  },
  {
   "cell_type": "code",
   "execution_count": 3,
   "id": "deb24dff",
   "metadata": {
    "execution": {
     "iopub.execute_input": "2022-08-24T23:18:00.359602Z",
     "iopub.status.busy": "2022-08-24T23:18:00.359302Z",
     "iopub.status.idle": "2022-08-24T23:20:34.944166Z",
     "shell.execute_reply": "2022-08-24T23:20:34.943129Z"
    },
    "papermill": {
     "duration": 154.593347,
     "end_time": "2022-08-24T23:20:34.946781",
     "exception": false,
     "start_time": "2022-08-24T23:18:00.353434",
     "status": "completed"
    },
    "tags": []
   },
   "outputs": [],
   "source": [
    "train = pd.read_parquet(\"../input/amex-data-integer-dtypes-parquet-format/train.parquet\")\n",
    "tan_lab =pd.read_csv(\"../input/amex-default-prediction/train_labels.csv\")\n",
    "train = train.merge(tan_lab, how = 'inner', on = 'customer_ID')"
   ]
  },
  {
   "cell_type": "code",
   "execution_count": 4,
   "id": "3bbc24c2",
   "metadata": {
    "execution": {
     "iopub.execute_input": "2022-08-24T23:20:34.958248Z",
     "iopub.status.busy": "2022-08-24T23:20:34.957955Z",
     "iopub.status.idle": "2022-08-24T23:20:37.590748Z",
     "shell.execute_reply": "2022-08-24T23:20:37.589754Z"
    },
    "papermill": {
     "duration": 2.640974,
     "end_time": "2022-08-24T23:20:37.593126",
     "exception": false,
     "start_time": "2022-08-24T23:20:34.952152",
     "status": "completed"
    },
    "tags": []
   },
   "outputs": [],
   "source": [
    "lab = LabelEncoder()\n",
    "train['customer_ID']= lab.fit_transform(train['customer_ID'])"
   ]
  },
  {
   "cell_type": "code",
   "execution_count": 5,
   "id": "106ac7e1",
   "metadata": {
    "execution": {
     "iopub.execute_input": "2022-08-24T23:20:37.604624Z",
     "iopub.status.busy": "2022-08-24T23:20:37.604311Z",
     "iopub.status.idle": "2022-08-24T23:20:41.089725Z",
     "shell.execute_reply": "2022-08-24T23:20:41.088687Z"
    },
    "papermill": {
     "duration": 3.493857,
     "end_time": "2022-08-24T23:20:41.092336",
     "exception": false,
     "start_time": "2022-08-24T23:20:37.598479",
     "status": "completed"
    },
    "tags": []
   },
   "outputs": [],
   "source": [
    "train = train.groupby('customer_ID').tail(1).set_index('customer_ID')"
   ]
  },
  {
   "cell_type": "code",
   "execution_count": 6,
   "id": "30cc8a49",
   "metadata": {
    "execution": {
     "iopub.execute_input": "2022-08-24T23:20:41.105003Z",
     "iopub.status.busy": "2022-08-24T23:20:41.104698Z",
     "iopub.status.idle": "2022-08-24T23:21:27.239249Z",
     "shell.execute_reply": "2022-08-24T23:21:27.237573Z"
    },
    "papermill": {
     "duration": 46.144329,
     "end_time": "2022-08-24T23:21:27.242776",
     "exception": false,
     "start_time": "2022-08-24T23:20:41.098447",
     "status": "completed"
    },
    "tags": []
   },
   "outputs": [],
   "source": [
    "test = pd.read_parquet(\"../input/amex-data-integer-dtypes-parquet-format/test.parquet\")"
   ]
  },
  {
   "cell_type": "code",
   "execution_count": 7,
   "id": "80860393",
   "metadata": {
    "execution": {
     "iopub.execute_input": "2022-08-24T23:21:27.256503Z",
     "iopub.status.busy": "2022-08-24T23:21:27.255860Z",
     "iopub.status.idle": "2022-08-24T23:21:32.779311Z",
     "shell.execute_reply": "2022-08-24T23:21:32.778282Z"
    },
    "papermill": {
     "duration": 5.532173,
     "end_time": "2022-08-24T23:21:32.781714",
     "exception": false,
     "start_time": "2022-08-24T23:21:27.249541",
     "status": "completed"
    },
    "tags": []
   },
   "outputs": [],
   "source": [
    "test['customer_ID']= lab.fit_transform(test['customer_ID'])"
   ]
  },
  {
   "cell_type": "code",
   "execution_count": 8,
   "id": "db9d469e",
   "metadata": {
    "execution": {
     "iopub.execute_input": "2022-08-24T23:21:32.794224Z",
     "iopub.status.busy": "2022-08-24T23:21:32.793928Z",
     "iopub.status.idle": "2022-08-24T23:21:34.534352Z",
     "shell.execute_reply": "2022-08-24T23:21:34.533347Z"
    },
    "papermill": {
     "duration": 1.749555,
     "end_time": "2022-08-24T23:21:34.537278",
     "exception": false,
     "start_time": "2022-08-24T23:21:32.787723",
     "status": "completed"
    },
    "tags": []
   },
   "outputs": [],
   "source": [
    "test = test.groupby('customer_ID').tail(1).set_index('customer_ID')"
   ]
  },
  {
   "cell_type": "code",
   "execution_count": 9,
   "id": "a1f9f313",
   "metadata": {
    "execution": {
     "iopub.execute_input": "2022-08-24T23:21:34.549658Z",
     "iopub.status.busy": "2022-08-24T23:21:34.549353Z",
     "iopub.status.idle": "2022-08-24T23:21:35.624211Z",
     "shell.execute_reply": "2022-08-24T23:21:35.623211Z"
    },
    "papermill": {
     "duration": 1.08424,
     "end_time": "2022-08-24T23:21:35.626556",
     "exception": false,
     "start_time": "2022-08-24T23:21:34.542316",
     "status": "completed"
    },
    "tags": []
   },
   "outputs": [],
   "source": [
    "y = train.target\n",
    "X = train.drop([\"target\",\"S_2\"],axis=1)\n",
    "\n",
    "\n",
    "test = test.drop([\"S_2\"],axis=1)"
   ]
  },
  {
   "cell_type": "code",
   "execution_count": 10,
   "id": "cc30df1e",
   "metadata": {
    "execution": {
     "iopub.execute_input": "2022-08-24T23:21:35.638258Z",
     "iopub.status.busy": "2022-08-24T23:21:35.637963Z",
     "iopub.status.idle": "2022-08-24T23:21:36.148810Z",
     "shell.execute_reply": "2022-08-24T23:21:36.147801Z"
    },
    "papermill": {
     "duration": 0.519259,
     "end_time": "2022-08-24T23:21:36.151231",
     "exception": false,
     "start_time": "2022-08-24T23:21:35.631972",
     "status": "completed"
    },
    "tags": []
   },
   "outputs": [],
   "source": [
    "X = X.fillna(-123)\n",
    "test = test.fillna(-123)"
   ]
  },
  {
   "cell_type": "code",
   "execution_count": 11,
   "id": "a4f4e8f3",
   "metadata": {
    "execution": {
     "iopub.execute_input": "2022-08-24T23:21:36.163033Z",
     "iopub.status.busy": "2022-08-24T23:21:36.162413Z",
     "iopub.status.idle": "2022-08-24T23:21:36.168389Z",
     "shell.execute_reply": "2022-08-24T23:21:36.167531Z"
    },
    "papermill": {
     "duration": 0.013796,
     "end_time": "2022-08-24T23:21:36.170384",
     "exception": false,
     "start_time": "2022-08-24T23:21:36.156588",
     "status": "completed"
    },
    "tags": []
   },
   "outputs": [],
   "source": [
    "cat_cols =['B_30', 'B_38', 'D_63', 'D_64', 'D_66', 'D_68', 'D_114', 'D_116', 'D_117', 'D_120', 'D_126']\n",
    "num_cols = [col for col in X.columns if col not in cat_cols ]\n"
   ]
  },
  {
   "cell_type": "code",
   "execution_count": 12,
   "id": "60086c2a",
   "metadata": {
    "execution": {
     "iopub.execute_input": "2022-08-24T23:21:36.181373Z",
     "iopub.status.busy": "2022-08-24T23:21:36.181118Z",
     "iopub.status.idle": "2022-08-24T23:21:36.187013Z",
     "shell.execute_reply": "2022-08-24T23:21:36.186012Z"
    },
    "papermill": {
     "duration": 0.014051,
     "end_time": "2022-08-24T23:21:36.189297",
     "exception": false,
     "start_time": "2022-08-24T23:21:36.175246",
     "status": "completed"
    },
    "tags": []
   },
   "outputs": [],
   "source": [
    "D_n_cols = [col for col in num_cols if col.startswith(\"D\")]\n",
    "S_n_cols = [col for col in num_cols if col.startswith(\"S\")]\n",
    "P_n_cols = [col for col in num_cols if col.startswith(\"P\")]\n",
    "B_n_cols = [col for col in num_cols if col.startswith(\"B\")]\n",
    "R_n_cols = [col for col in num_cols if col.startswith(\"R\")]\n",
    "D_c_cols = [col for col in cat_cols if col.startswith(\"D\")]\n",
    "B_c_cols = [col for col in cat_cols if col.startswith(\"B\")] "
   ]
  },
  {
   "cell_type": "code",
   "execution_count": 13,
   "id": "1388ae89",
   "metadata": {
    "execution": {
     "iopub.execute_input": "2022-08-24T23:21:36.200307Z",
     "iopub.status.busy": "2022-08-24T23:21:36.200054Z",
     "iopub.status.idle": "2022-08-24T23:23:43.836377Z",
     "shell.execute_reply": "2022-08-24T23:23:43.835367Z"
    },
    "papermill": {
     "duration": 127.64998,
     "end_time": "2022-08-24T23:23:43.844214",
     "exception": false,
     "start_time": "2022-08-24T23:21:36.194234",
     "status": "completed"
    },
    "tags": []
   },
   "outputs": [
    {
     "name": "stdout",
     "output_type": "stream",
     "text": [
      "(458913, 206) (924621, 206)\n"
     ]
    }
   ],
   "source": [
    "X[\"D_mean\"]=X[D_n_cols].mean(axis=1)\n",
    "X[\"S_mean\"]=X[S_n_cols].mean(axis=1)\n",
    "X[\"P_mean\"]=X[P_n_cols].mean(axis=1)\n",
    "X[\"B_mean\"]=X[B_n_cols].mean(axis=1)\n",
    "X[\"R_mean\"]=X[R_n_cols].mean(axis=1)\n",
    "\n",
    "X[\"D_max\"]=X[D_n_cols].max(axis=1)\n",
    "X[\"S_max\"]=X[S_n_cols].max(axis=1)\n",
    "X[\"P_max\"]=X[P_n_cols].max(axis=1)\n",
    "X[\"B_max\"]=X[B_n_cols].max(axis=1)\n",
    "X[\"R_max\"]=X[R_n_cols].max(axis=1)\n",
    "\n",
    "X[\"D_min\"]=X[D_n_cols].min(axis=1)\n",
    "X[\"S_min\"]=X[S_n_cols].min(axis=1)\n",
    "X[\"P_min\"]=X[P_n_cols].min(axis=1)\n",
    "X[\"B_min\"]=X[B_n_cols].min(axis=1)\n",
    "X[\"R_min\"]=X[R_n_cols].min(axis=1)\n",
    "\n",
    "X[\"D_c_unique\"]=X[D_c_cols].nunique(axis=1)\n",
    "X[\"B_c_unique\"]=X[B_c_cols].nunique(axis=1)\n",
    "\n",
    "X['mat_num'] =X[\"B_mean\"]+ X[\"D_mean\"] +X[\"S_mean\"] +X[\"P_mean\"] + X[\"R_mean\"]\n",
    "\n",
    "test[\"D_mean\"]=test[D_n_cols].mean(axis=1)\n",
    "test[\"S_mean\"]=test[S_n_cols].mean(axis=1)\n",
    "test[\"P_mean\"]=test[P_n_cols].mean(axis=1)\n",
    "test[\"B_mean\"]=test[B_n_cols].mean(axis=1)\n",
    "test[\"R_mean\"]=test[R_n_cols].mean(axis=1)\n",
    "\n",
    "test[\"D_max\"]=test[D_n_cols].max(axis=1)\n",
    "test[\"S_max\"]=test[S_n_cols].max(axis=1)\n",
    "test[\"P_max\"]=test[P_n_cols].max(axis=1)\n",
    "test[\"B_max\"]=test[B_n_cols].max(axis=1)\n",
    "test[\"R_max\"]=test[R_n_cols].max(axis=1)\n",
    "\n",
    "test[\"D_min\"]=test[D_n_cols].min(axis=1)\n",
    "test[\"S_min\"]=test[S_n_cols].min(axis=1)\n",
    "test[\"P_min\"]=test[P_n_cols].min(axis=1)\n",
    "test[\"B_min\"]=test[B_n_cols].min(axis=1)\n",
    "test[\"R_min\"]=test[R_n_cols].min(axis=1)\n",
    "\n",
    "test[\"D_c_unique\"]=test[D_c_cols].nunique(axis=1)\n",
    "test[\"B_c_unique\"]=test[B_c_cols].nunique(axis=1)\n",
    "\n",
    "test['mat_num'] =test[\"B_mean\"]+ test[\"D_mean\"] +test[\"S_mean\"] +test[\"P_mean\"] + test[\"R_mean\"]\n",
    "\n",
    "\n",
    "print(X.shape,test.shape)"
   ]
  },
  {
   "cell_type": "code",
   "execution_count": 14,
   "id": "d8c9b00f",
   "metadata": {
    "execution": {
     "iopub.execute_input": "2022-08-24T23:23:43.856899Z",
     "iopub.status.busy": "2022-08-24T23:23:43.856265Z",
     "iopub.status.idle": "2022-08-24T23:23:45.424094Z",
     "shell.execute_reply": "2022-08-24T23:23:45.423077Z"
    },
    "papermill": {
     "duration": 1.575946,
     "end_time": "2022-08-24T23:23:45.426158",
     "exception": false,
     "start_time": "2022-08-24T23:23:43.850212",
     "status": "completed"
    },
    "tags": []
   },
   "outputs": [
    {
     "data": {
      "text/plain": [
       "((458913, 206), (924621, 206))"
      ]
     },
     "execution_count": 14,
     "metadata": {},
     "output_type": "execute_result"
    }
   ],
   "source": [
    "from sklearn.preprocessing import OrdinalEncoder\n",
    "ordinal_encoder = OrdinalEncoder()\n",
    "\n",
    "X[cat_cols]= ordinal_encoder.fit_transform(X[cat_cols])\n",
    "test[cat_cols] = ordinal_encoder.transform(test[cat_cols])\n",
    "\n",
    "X.shape,test.shape"
   ]
  },
  {
   "cell_type": "code",
   "execution_count": 15,
   "id": "b988c406",
   "metadata": {
    "execution": {
     "iopub.execute_input": "2022-08-24T23:23:45.438830Z",
     "iopub.status.busy": "2022-08-24T23:23:45.437920Z",
     "iopub.status.idle": "2022-08-24T23:23:49.072404Z",
     "shell.execute_reply": "2022-08-24T23:23:49.071411Z"
    },
    "papermill": {
     "duration": 3.643183,
     "end_time": "2022-08-24T23:23:49.074898",
     "exception": false,
     "start_time": "2022-08-24T23:23:45.431715",
     "status": "completed"
    },
    "tags": []
   },
   "outputs": [],
   "source": [
    "scaler = MinMaxScaler()\n",
    "\n",
    "X[num_cols] = scaler.fit_transform(X[num_cols])\n",
    "test[num_cols] = scaler.transform(test[num_cols])\n",
    "\n",
    "X[cat_cols] = scaler.fit_transform(X[cat_cols])\n",
    "test[cat_cols] = scaler.transform(test[cat_cols])"
   ]
  },
  {
   "cell_type": "code",
   "execution_count": 16,
   "id": "8d75cfa2",
   "metadata": {
    "execution": {
     "iopub.execute_input": "2022-08-24T23:23:49.088908Z",
     "iopub.status.busy": "2022-08-24T23:23:49.088587Z",
     "iopub.status.idle": "2022-08-24T23:29:46.192438Z",
     "shell.execute_reply": "2022-08-24T23:29:46.191470Z"
    },
    "papermill": {
     "duration": 357.116773,
     "end_time": "2022-08-24T23:29:46.198356",
     "exception": false,
     "start_time": "2022-08-24T23:23:49.081583",
     "status": "completed"
    },
    "tags": []
   },
   "outputs": [
    {
     "data": {
      "text/plain": [
       "0    340085\n",
       "1    340085\n",
       "Name: target, dtype: int64"
      ]
     },
     "execution_count": 16,
     "metadata": {},
     "output_type": "execute_result"
    }
   ],
   "source": [
    "smote = SMOTE(sampling_strategy='minority')\n",
    "X_sm,y_sm = smote.fit_resample(X,y)\n",
    "y_sm.value_counts()"
   ]
  },
  {
   "cell_type": "code",
   "execution_count": 17,
   "id": "a9828e15",
   "metadata": {
    "execution": {
     "iopub.execute_input": "2022-08-24T23:29:46.210816Z",
     "iopub.status.busy": "2022-08-24T23:29:46.210007Z",
     "iopub.status.idle": "2022-08-24T23:29:48.490497Z",
     "shell.execute_reply": "2022-08-24T23:29:48.489468Z"
    },
    "papermill": {
     "duration": 2.289208,
     "end_time": "2022-08-24T23:29:48.492979",
     "exception": false,
     "start_time": "2022-08-24T23:29:46.203771",
     "status": "completed"
    },
    "tags": []
   },
   "outputs": [],
   "source": [
    "X_f = np.array(X_sm)\n",
    "y_f = np.array(y_sm)\n",
    "\n",
    "test = np.array(test)"
   ]
  },
  {
   "cell_type": "code",
   "execution_count": 18,
   "id": "7442ffae",
   "metadata": {
    "execution": {
     "iopub.execute_input": "2022-08-24T23:29:48.506376Z",
     "iopub.status.busy": "2022-08-24T23:29:48.505438Z",
     "iopub.status.idle": "2022-08-24T23:29:50.430912Z",
     "shell.execute_reply": "2022-08-24T23:29:50.428497Z"
    },
    "papermill": {
     "duration": 1.93425,
     "end_time": "2022-08-24T23:29:50.433012",
     "exception": false,
     "start_time": "2022-08-24T23:29:48.498762",
     "status": "completed"
    },
    "tags": []
   },
   "outputs": [
    {
     "name": "stdout",
     "output_type": "stream",
     "text": [
      "x_train shape (544136, 206)\n",
      "x_test shape (136034, 206)\n",
      "y_train shape (544136,)\n",
      "y_test shape (136034,)\n"
     ]
    }
   ],
   "source": [
    "X_train, X_val, Y_train, Y_val = train_test_split(X_f, y_f, test_size = 0.20, random_state=2021,stratify=y_f)\n",
    "print(\"x_train shape\",X_train.shape)\n",
    "print(\"x_test shape\",X_val.shape)\n",
    "print(\"y_train shape\",Y_train.shape)\n",
    "print(\"y_test shape\",Y_val.shape)"
   ]
  },
  {
   "cell_type": "code",
   "execution_count": 19,
   "id": "2b5a03a3",
   "metadata": {
    "execution": {
     "iopub.execute_input": "2022-08-24T23:29:50.446577Z",
     "iopub.status.busy": "2022-08-24T23:29:50.445668Z",
     "iopub.status.idle": "2022-08-24T23:29:50.451696Z",
     "shell.execute_reply": "2022-08-24T23:29:50.450854Z"
    },
    "papermill": {
     "duration": 0.014763,
     "end_time": "2022-08-24T23:29:50.453701",
     "exception": false,
     "start_time": "2022-08-24T23:29:50.438938",
     "status": "completed"
    },
    "tags": []
   },
   "outputs": [],
   "source": [
    "param={'booster': 'dart',\n",
    " 'lambda': 0.000156469894565185,\n",
    " 'alpha': 0.10410870792558755,\n",
    " 'subsample': 0.6674526274907548,\n",
    " 'colsample_bytree': 0.5480184568542634,\n",
    " 'max_depth': 9,\n",
    " 'min_child_weight': 8,\n",
    " 'eta': 0.16148473311025344,\n",
    " 'gamma': 3.3872652561508726e-05,\n",
    " 'grow_policy': 'lossguide',\n",
    " 'sample_type': 'weighted',\n",
    " 'normalize_type': 'forest',\n",
    " 'rate_drop': 2.519962453550491e-07,\n",
    " 'skip_drop': 0.0037991281511123055}"
   ]
  },
  {
   "cell_type": "code",
   "execution_count": 20,
   "id": "350f988f",
   "metadata": {
    "execution": {
     "iopub.execute_input": "2022-08-24T23:29:50.466276Z",
     "iopub.status.busy": "2022-08-24T23:29:50.466016Z",
     "iopub.status.idle": "2022-08-24T23:30:52.916454Z",
     "shell.execute_reply": "2022-08-24T23:30:52.915519Z"
    },
    "papermill": {
     "duration": 62.463322,
     "end_time": "2022-08-24T23:30:52.922476",
     "exception": false,
     "start_time": "2022-08-24T23:29:50.459154",
     "status": "completed"
    },
    "tags": []
   },
   "outputs": [
    {
     "name": "stdout",
     "output_type": "stream",
     "text": [
      "[LightGBM] [Warning] Unknown parameter: booster\n",
      "[LightGBM] [Warning] lambda_l2 is set with lambda=0.000156469894565185, reg_lambda=0.0 will be ignored. Current value: lambda_l2=0.000156469894565185\n",
      "[LightGBM] [Warning] Unknown parameter: gamma\n",
      "[LightGBM] [Warning] Unknown parameter: normalize_type\n",
      "[LightGBM] [Warning] Unknown parameter: grow_policy\n",
      "[LightGBM] [Warning] Unknown parameter: sample_type\n",
      "[LightGBM] [Warning] learning_rate is set=0.1, eta=0.16148473311025344 will be ignored. Current value: learning_rate=0.1\n",
      "Training until validation scores don't improve for 200 rounds\n",
      "Did not meet early stopping. Best iteration is:\n",
      "[100]\ttraining's auc: 0.985604\ttraining's binary_logloss: 0.154104\tvalid_1's auc: 0.985008\tvalid_1's binary_logloss: 0.157068\n"
     ]
    }
   ],
   "source": [
    "gbm =LGBMClassifier(**param).fit(X_train, Y_train, \n",
    "                                       eval_set=[(X_train, Y_train), (X_val, Y_val)],\n",
    "                                       callbacks=[early_stopping(200), log_evaluation(500)],\n",
    "                                       eval_metric=['auc','binary_logloss'])"
   ]
  },
  {
   "cell_type": "code",
   "execution_count": 21,
   "id": "5984c8c8",
   "metadata": {
    "execution": {
     "iopub.execute_input": "2022-08-24T23:30:52.936350Z",
     "iopub.status.busy": "2022-08-24T23:30:52.936032Z",
     "iopub.status.idle": "2022-08-24T23:30:53.664384Z",
     "shell.execute_reply": "2022-08-24T23:30:53.663567Z"
    },
    "papermill": {
     "duration": 0.737691,
     "end_time": "2022-08-24T23:30:53.666947",
     "exception": false,
     "start_time": "2022-08-24T23:30:52.929256",
     "status": "completed"
    },
    "tags": []
   },
   "outputs": [],
   "source": [
    "predictions = gbm.predict(X_val)"
   ]
  },
  {
   "cell_type": "code",
   "execution_count": 22,
   "id": "9160b0bb",
   "metadata": {
    "execution": {
     "iopub.execute_input": "2022-08-24T23:30:53.681231Z",
     "iopub.status.busy": "2022-08-24T23:30:53.680932Z",
     "iopub.status.idle": "2022-08-24T23:30:53.923192Z",
     "shell.execute_reply": "2022-08-24T23:30:53.922059Z"
    },
    "papermill": {
     "duration": 0.252584,
     "end_time": "2022-08-24T23:30:53.926383",
     "exception": false,
     "start_time": "2022-08-24T23:30:53.673799",
     "status": "completed"
    },
    "tags": []
   },
   "outputs": [
    {
     "name": "stdout",
     "output_type": "stream",
     "text": [
      "              precision    recall  f1-score   support\n",
      "\n",
      "           0       0.93      0.93      0.93     68017\n",
      "           1       0.93      0.93      0.93     68017\n",
      "\n",
      "    accuracy                           0.93    136034\n",
      "   macro avg       0.93      0.93      0.93    136034\n",
      "weighted avg       0.93      0.93      0.93    136034\n",
      "\n"
     ]
    }
   ],
   "source": [
    "cf = classification_report(Y_val,predictions)\n",
    "print(cf)"
   ]
  },
  {
   "cell_type": "code",
   "execution_count": 23,
   "id": "b0f5b117",
   "metadata": {
    "execution": {
     "iopub.execute_input": "2022-08-24T23:30:53.941020Z",
     "iopub.status.busy": "2022-08-24T23:30:53.940403Z",
     "iopub.status.idle": "2022-08-24T23:30:59.521802Z",
     "shell.execute_reply": "2022-08-24T23:30:59.520899Z"
    },
    "papermill": {
     "duration": 5.592067,
     "end_time": "2022-08-24T23:30:59.524686",
     "exception": false,
     "start_time": "2022-08-24T23:30:53.932619",
     "status": "completed"
    },
    "tags": []
   },
   "outputs": [],
   "source": [
    "prd_test = gbm.predict_proba(test)"
   ]
  },
  {
   "cell_type": "code",
   "execution_count": 24,
   "id": "24001c1f",
   "metadata": {
    "execution": {
     "iopub.execute_input": "2022-08-24T23:30:59.541280Z",
     "iopub.status.busy": "2022-08-24T23:30:59.540950Z",
     "iopub.status.idle": "2022-08-24T23:30:59.550263Z",
     "shell.execute_reply": "2022-08-24T23:30:59.549182Z"
    },
    "papermill": {
     "duration": 0.019651,
     "end_time": "2022-08-24T23:30:59.552350",
     "exception": false,
     "start_time": "2022-08-24T23:30:59.532699",
     "status": "completed"
    },
    "tags": []
   },
   "outputs": [
    {
     "data": {
      "text/plain": [
       "array([0.04753891, 0.00248608, 0.04272379, ..., 0.53509831, 0.52171269,\n",
       "       0.09429967])"
      ]
     },
     "execution_count": 24,
     "metadata": {},
     "output_type": "execute_result"
    }
   ],
   "source": [
    "preds = pd.DataFrame(prd_test)\n",
    "pred_final = np.array(preds[1])\n",
    "pred_final"
   ]
  },
  {
   "cell_type": "code",
   "execution_count": 25,
   "id": "34a9c782",
   "metadata": {
    "execution": {
     "iopub.execute_input": "2022-08-24T23:30:59.566323Z",
     "iopub.status.busy": "2022-08-24T23:30:59.566020Z",
     "iopub.status.idle": "2022-08-24T23:31:01.255311Z",
     "shell.execute_reply": "2022-08-24T23:31:01.254329Z"
    },
    "papermill": {
     "duration": 1.69909,
     "end_time": "2022-08-24T23:31:01.257792",
     "exception": false,
     "start_time": "2022-08-24T23:30:59.558702",
     "status": "completed"
    },
    "tags": []
   },
   "outputs": [],
   "source": [
    "submission = pd.read_csv(\"../input/amex-default-prediction/sample_submission.csv\")"
   ]
  },
  {
   "cell_type": "code",
   "execution_count": 26,
   "id": "913e022e",
   "metadata": {
    "execution": {
     "iopub.execute_input": "2022-08-24T23:31:01.271894Z",
     "iopub.status.busy": "2022-08-24T23:31:01.271593Z",
     "iopub.status.idle": "2022-08-24T23:31:01.277991Z",
     "shell.execute_reply": "2022-08-24T23:31:01.277126Z"
    },
    "papermill": {
     "duration": 0.015772,
     "end_time": "2022-08-24T23:31:01.280083",
     "exception": false,
     "start_time": "2022-08-24T23:31:01.264311",
     "status": "completed"
    },
    "tags": []
   },
   "outputs": [],
   "source": [
    "submission['prediction']=pred_final"
   ]
  },
  {
   "cell_type": "code",
   "execution_count": 27,
   "id": "ed202b43",
   "metadata": {
    "execution": {
     "iopub.execute_input": "2022-08-24T23:31:01.294300Z",
     "iopub.status.busy": "2022-08-24T23:31:01.293409Z",
     "iopub.status.idle": "2022-08-24T23:31:04.707864Z",
     "shell.execute_reply": "2022-08-24T23:31:04.706864Z"
    },
    "papermill": {
     "duration": 3.423982,
     "end_time": "2022-08-24T23:31:04.710275",
     "exception": false,
     "start_time": "2022-08-24T23:31:01.286293",
     "status": "completed"
    },
    "tags": []
   },
   "outputs": [],
   "source": [
    "submission.to_csv(\"submission.csv\",index=False)"
   ]
  }
 ],
 "metadata": {
  "kernelspec": {
   "display_name": "Python 3",
   "language": "python",
   "name": "python3"
  },
  "language_info": {
   "codemirror_mode": {
    "name": "ipython",
    "version": 3
   },
   "file_extension": ".py",
   "mimetype": "text/x-python",
   "name": "python",
   "nbconvert_exporter": "python",
   "pygments_lexer": "ipython3",
   "version": "3.7.12"
  },
  "papermill": {
   "default_parameters": {},
   "duration": 797.031867,
   "end_time": "2022-08-24T23:31:06.042205",
   "environment_variables": {},
   "exception": null,
   "input_path": "__notebook__.ipynb",
   "output_path": "__notebook__.ipynb",
   "parameters": {},
   "start_time": "2022-08-24T23:17:49.010338",
   "version": "2.3.4"
  }
 },
 "nbformat": 4,
 "nbformat_minor": 5
}
